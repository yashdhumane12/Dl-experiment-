{
 "cells": [
  {
   "cell_type": "markdown",
   "metadata": {
    "id": "YW0QoFZ7D4bm"
   },
   "source": [
    "## Assignment No. 2"
   ]
  },
  {
   "cell_type": "code",
   "execution_count": 1,
   "metadata": {
    "id": "ygKW-YUqPjiD"
   },
   "outputs": [],
   "source": [
    "import tensorflow as tf\n",
    "from tensorflow.keras.models import Sequential\n",
    "from tensorflow.keras.layers import Dense\n",
    "from tensorflow.keras.layers import Dropout, Flatten\n",
    "import matplotlib.pyplot as plt\n",
    "import seaborn as sns"
   ]
  },
  {
   "cell_type": "markdown",
   "metadata": {
    "id": "JGCakdHZP33D"
   },
   "source": [
    "0.0.1 MNIST dataset"
   ]
  },
  {
   "cell_type": "code",
   "execution_count": 2,
   "metadata": {
    "id": "2lI5XPndQQqy"
   },
   "outputs": [],
   "source": [
    "mnist = tf.keras.datasets.mnist\n",
    "(x_train, y_train) , (x_test, y_test) = mnist.load_data() # Data loading\n",
    "x_train, x_test = x_train/255.0 , x_test/255.0 #Normalizing the data"
   ]
  },
  {
   "cell_type": "code",
   "execution_count": 3,
   "metadata": {
    "colab": {
     "base_uri": "https://localhost:8080/",
     "height": 269
    },
    "id": "vrN9_97WQXuq",
    "outputId": "30be67b5-1db0-45ed-c114-c458264f3345"
   },
   "outputs": [
    {
     "data": {
      "image/png": "[encoded data removed]",
      "text/plain": [
       "<Figure size 432x288 with 2 Axes>"
      ]
     },
     "metadata": {
      "needs_background": "light"
     },
     "output_type": "display_data"
    }
   ],
   "source": [
    "sns.heatmap(x_train[0])\n",
    "plt.show()"
   ]
  },
  {
   "cell_type": "markdown",
   "metadata": {
    "id": "SN7Dkk-YQdao"
   },
   "source": [
    "Prepearing the model"
   ]
  },
  {
   "cell_type": "code",
   "execution_count": 4,
   "metadata": {
    "id": "Cxu4xK5zQelc"
   },
   "outputs": [],
   "source": [
    "model = Sequential([\n",
    "Flatten(input_shape=(28,28)),\n",
    "Dense(128, activation=\"relu\"),\n",
    "Dropout(0.2),\n",
    "Dense(10)\n",
    "])"
   ]
  },
  {
   "cell_type": "code",
   "execution_count": 5,
   "metadata": {
    "colab": {
     "base_uri": "https://localhost:8080/",
     "height": 0
    },
    "id": "Q5eo5LuFQjCz",
    "outputId": "d78780b0-129d-4a37-bbf5-bd8db1c96164"
   },
   "outputs": [
    {
     "data": {
      "text/plain": [
       "array([[ 0.19316395,  0.05687325,  1.0475322 , -0.34722733, -0.1688012 ,\n",
       "         0.53888667, -0.15296635, -0.09366216, -0.6049562 , -0.7471332 ]],\n",
       "      dtype=float32)"
      ]
     },
     "execution_count": 5,
     "metadata": {},
     "output_type": "execute_result"
    }
   ],
   "source": [
    "predictions = model(x_train[:1]).numpy()\n",
    "predictions"
   ]
  },
  {
   "cell_type": "code",
   "execution_count": 6,
   "metadata": {
    "colab": {
     "base_uri": "https://localhost:8080/",
     "height": 0
    },
    "id": "jSXEyD24QnDv",
    "outputId": "f8ad6762-2ce1-484c-d832-78badfd7c127"
   },
   "outputs": [
    {
     "data": {
      "text/plain": [
       "array([[0.10854152, 0.09471213, 0.25506055, 0.06322763, 0.07557818,\n",
       "        0.15337034, 0.07678447, 0.08147585, 0.04886261, 0.04238674]],\n",
       "      dtype=float32)"
      ]
     },
     "execution_count": 6,
     "metadata": {},
     "output_type": "execute_result"
    }
   ],
   "source": [
    "tf.nn.softmax(predictions).numpy()"
   ]
  },
  {
   "cell_type": "code",
   "execution_count": 7,
   "metadata": {
    "id": "G_S8FDIFQrv1"
   },
   "outputs": [],
   "source": [
    "loss_fn = tf.keras.losses.SparseCategoricalCrossentropy(from_logits=True)"
   ]
  },
  {
   "cell_type": "code",
   "execution_count": 8,
   "metadata": {
    "id": "fC-Xl60jQu6E"
   },
   "outputs": [],
   "source": [
    "model.compile(optimizer=\"adam\", loss = loss_fn, metrics=[\"accuracy\"])"
   ]
  },
  {
   "cell_type": "code",
   "execution_count": 9,
   "metadata": {
    "colab": {
     "base_uri": "https://localhost:8080/",
     "height": 0
    },
    "id": "HIlmjetXQ3vZ",
    "outputId": "4a4e1de8-d653-4aef-a927-e1a6c1f34340"
   },
   "outputs": [
    {
     "name": "stdout",
     "output_type": "stream",
     "text": [
      "Epoch 1/5\n",
      "1875/1875 [==============================] - 10s 5ms/step - loss: 0.2926 - accuracy: 0.9154\n",
      "Epoch 2/5\n",
      "1875/1875 [==============================] - 5s 3ms/step - loss: 0.1412 - accuracy: 0.9582\n",
      "Epoch 3/5\n",
      "1875/1875 [==============================] - 5s 3ms/step - loss: 0.1074 - accuracy: 0.9675\n",
      "Epoch 4/5\n",
      "1875/1875 [==============================] - 6s 3ms/step - loss: 0.0890 - accuracy: 0.9725\n",
      "Epoch 5/5\n",
      "1875/1875 [==============================] - 7s 4ms/step - loss: 0.0739 - accuracy: 0.9765\n"
     ]
    },
    {
     "data": {
      "text/plain": [
       "<keras.callbacks.History at 0x7f5835fb43d0>"
      ]
     },
     "execution_count": 9,
     "metadata": {},
     "output_type": "execute_result"
    }
   ],
   "source": [
    "model.fit(x_train, y_train, epochs=5)"
   ]
  },
  {
   "cell_type": "code",
   "execution_count": 10,
   "metadata": {
    "colab": {
     "base_uri": "https://localhost:8080/",
     "height": 0
    },
    "id": "VBwXuPfQQ53R",
    "outputId": "05de803a-eef6-469c-e087-b7da9bf7e5e2"
   },
   "outputs": [
    {
     "name": "stdout",
     "output_type": "stream",
     "text": [
      "313/313 - 1s - loss: 0.0791 - accuracy: 0.9743 - 631ms/epoch - 2ms/step\n"
     ]
    },
    {
     "data": {
      "text/plain": [
       "[0.07910005003213882, 0.9743000268936157]"
      ]
     },
     "execution_count": 10,
     "metadata": {},
     "output_type": "execute_result"
    }
   ],
   "source": [
    "model.evaluate(x_test, y_test, verbose=2)"
   ]
  },
  {
   "cell_type": "markdown",
   "metadata": {
    "id": "gYBVMNa6RAAD"
   },
   "source": [
    "Validation of Model"
   ]
  },
  {
   "cell_type": "code",
   "execution_count": 11,
   "metadata": {
    "colab": {
     "base_uri": "https://localhost:8080/",
     "height": 0
    },
    "id": "ij1ZSNgHRA-b",
    "outputId": "cad8c662-1694-4e08-ffd9-c9ee5c69a445"
   },
   "outputs": [
    {
     "name": "stdout",
     "output_type": "stream",
     "text": [
      "Epoch 1/5\n",
      "300/300 [==============================] - 2s 7ms/step - loss: 0.0511 - accuracy: 0.9841 - val_loss: 0.0673 - val_accuracy: 0.9802\n",
      "Epoch 2/5\n",
      "300/300 [==============================] - 2s 6ms/step - loss: 0.0459 - accuracy: 0.9858 - val_loss: 0.0672 - val_accuracy: 0.9795\n",
      "Epoch 3/5\n",
      "300/300 [==============================] - 2s 6ms/step - loss: 0.0441 - accuracy: 0.9864 - val_loss: 0.0652 - val_accuracy: 0.9811\n",
      "Epoch 4/5\n",
      "300/300 [==============================] - 2s 6ms/step - loss: 0.0415 - accuracy: 0.9871 - val_loss: 0.0667 - val_accuracy: 0.9800\n",
      "Epoch 5/5\n",
      "300/300 [==============================] - 2s 6ms/step - loss: 0.0397 - accuracy: 0.9876 - val_loss: 0.0662 - val_accuracy: 0.9808\n"
     ]
    }
   ],
   "source": [
    "val = model.fit(x_train, y_train, epochs=5, validation_data=(x_test, y_test),batch_size=200)"
   ]
  },
  {
   "cell_type": "code",
   "execution_count": 12,
   "metadata": {
    "colab": {
     "base_uri": "https://localhost:8080/",
     "height": 295
    },
    "id": "DfAiwTvNRKiY",
    "outputId": "934926df-c700-42ba-e4ef-cc0d7e7e5cc3"
   },
   "outputs": [
    {
     "data": {
      "image/png": "[encoded data removed]",
      "text/plain": [
       "<Figure size 432x288 with 1 Axes>"
      ]
     },
     "metadata": {
      "needs_background": "light"
     },
     "output_type": "display_data"
    }
   ],
   "source": [
    "plt.title(\"Model Accuracy\")\n",
    "plt.ylabel(\"Accuracy\")\n",
    "plt.xlabel(\"epoch\")\n",
    "plt.plot(val.history[\"accuracy\"])\n",
    "plt.plot(val.history[\"val_accuracy\"])\n",
    "plt.legend([\"train\",\"val\"])\n",
    "plt.show()"
   ]
  }
 ],
 "metadata": {
  "colab": {
   "collapsed_sections": [],
   "provenance": []
  },
  "kernelspec": {
   "display_name": "Python 3 (ipykernel)",
   "language": "python",
   "name": "python3"
  },
  "language_info": {
   "codemirror_mode": {
    "name": "ipython",
    "version": 3
   },
   "file_extension": ".py",
   "mimetype": "text/x-python",
   "name": "python",
   "nbconvert_exporter": "python",
   "pygments_lexer": "ipython3",
   "version": "3.10.4"
  }
 },
 "nbformat": 4,
 "nbformat_minor": 1
}
